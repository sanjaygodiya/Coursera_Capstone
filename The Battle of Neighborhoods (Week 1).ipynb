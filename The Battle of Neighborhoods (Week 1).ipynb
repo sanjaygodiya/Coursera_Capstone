{
    "cells": [
        {
            "cell_type": "markdown",
            "metadata": {
                "collapsed": true
            },
            "source": "### The Battle of Neighborhoods (Week 1)"
        },
        {
            "cell_type": "markdown",
            "metadata": {},
            "source": "<h5> A description of the problem and a discussion of the background </h5>"
        },
        {
            "cell_type": "markdown",
            "metadata": {},
            "source": "One of my friend who is Interior Designer by profession lives in Manhattan, NY with his family (wife and  two kids).\nHe works for a good firm and earns well but as not enough for his experience. He is very talented and experience and well known designer in interior design industry. His friends who works for different firms always ask for his opinion whenever they get stuck in a complex projects. \n\nOne of the famous interior designer firm in Toronto, CA was looking for a talented and experience designer for a long term project and they came to known about my friend through a social network. After few days he receives a mail from the firm and after few rounds of interview, they offered him a great salary package with many other benefits. The project and compensation offered is really great but my friend is hesitant to relocate to a different place. He is worried about his kid's school, his wife's job who is nurse by profession. He is concern if he and his family will be able to settled down in a different city. \n  \nAs he knows, I am an aspirant data-scientist, he came to me with his problem and now its my problem to find a new place in Toronto, CA which is similar to his current resident. \n"
        },
        {
            "cell_type": "markdown",
            "metadata": {},
            "source": "<h5>A description of the data and how it will be used to solve the problem</h5>"
        },
        {
            "cell_type": "markdown",
            "metadata": {},
            "source": "I will collect data for different locations of two cities Manhattan and Toronto like zip code, neighborhood, latitude and longitude. \nI will collect the data of different venues at a particular location of two cities using Foursquare API.\nI will explore the data for schools, hospital, parks, restaurant, subways etc for different locations of Toronto and current resident of my friend in Manhattan. I will plot them on graph using Folium for visual comparison and after comparison, I will suggest a place to my friend which will be similar to his current resident\n"
        }
    ],
    "metadata": {
        "kernelspec": {
            "display_name": "Python 3.6",
            "language": "python",
            "name": "python3"
        },
        "language_info": {
            "codemirror_mode": {
                "name": "ipython",
                "version": 3
            },
            "file_extension": ".py",
            "mimetype": "text/x-python",
            "name": "python",
            "nbconvert_exporter": "python",
            "pygments_lexer": "ipython3",
            "version": "3.6.9"
        }
    },
    "nbformat": 4,
    "nbformat_minor": 1
}